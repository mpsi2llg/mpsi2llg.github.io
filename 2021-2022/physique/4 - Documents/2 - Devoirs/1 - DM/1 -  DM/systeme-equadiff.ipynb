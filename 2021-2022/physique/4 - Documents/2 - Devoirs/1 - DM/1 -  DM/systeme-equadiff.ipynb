{
 "cells": [
  {
   "cell_type": "markdown",
   "metadata": {},
   "source": [
    "Résolution d'équations différentielles d'ordre 2\n",
    "================================================\n",
    "\n",
    "**Date:** lundi 24 janvier 2022\n",
    "\n"
   ]
  },
  {
   "cell_type": "markdown",
   "metadata": {},
   "source": [
    "## Capacité numérique\n",
    "\n"
   ]
  },
  {
   "cell_type": "markdown",
   "metadata": {},
   "source": [
    "-   Équations différentielles d’ordre supérieur ou égal à 2\n",
    "    -   Transformer une équation différentielle d’ordre n en un système\n",
    "        différentiel de n équations d’ordre 1\n",
    "    -   Utiliser la fonction odeint de la bibliothèque scipy.integrate (sa\n",
    "        spécification étant fournie).\n",
    "\n"
   ]
  },
  {
   "cell_type": "markdown",
   "metadata": {},
   "source": [
    "## Modules\n",
    "\n"
   ]
  },
  {
   "cell_type": "markdown",
   "metadata": {},
   "source": [
    "Conformément au programme, on utilise la fonction `odeint` du module\n",
    "`scipy.integrate` ([documentation](https://docs.scipy.org/doc/scipy/reference/generated/scipy.integrate.odeint.html)) pour réaliser l'intégration\n",
    "**numérique** d'une équation différentielle d'ordre 2.\n",
    "\n",
    "Notons qu'on pourra lui préférer la fonction `solve_ivp` du même\n",
    "module offrant davantage de possibilités ([documentation](https://docs.scipy.org/doc/scipy/reference/generated/scipy.integrate.solve_ivp.html#scipy.integrate.solve_ivp)), en\n",
    "particulier celle de déterminer les instants où certains évènements\n",
    "sont réalisés.\n",
    "\n"
   ]
  },
  {
   "cell_type": "code",
   "execution_count": 1,
   "metadata": {},
   "outputs": [],
   "source": [
    "%matplotlib inline"
   ]
  },
  {
   "cell_type": "markdown",
   "metadata": {},
   "source": [
    "La ligne précédente ne doit apparaître que dans les notebooks\n",
    "`Jupyter`, pas dans un fichier python.\n",
    "\n"
   ]
  },
  {
   "cell_type": "code",
   "execution_count": 1,
   "metadata": {},
   "outputs": [],
   "source": [
    "import numpy as np\n",
    "from scipy.integrate import odeint\n",
    "import matplotlib.pyplot as plt\n",
    "import numpy.ma as ma"
   ]
  },
  {
   "cell_type": "markdown",
   "metadata": {},
   "source": [
    "## Équation différentielle d'ordre 2\n",
    "\n"
   ]
  },
  {
   "cell_type": "markdown",
   "metadata": {},
   "source": [
    "### Système d'équations différentielles d'ordre 1\n",
    "\n"
   ]
  },
  {
   "cell_type": "markdown",
   "metadata": {},
   "source": [
    "La dynamique du point matériel amène à considérer des équations\n",
    "différentielles d'ordre 2 de la forme:\n",
    "\n",
    "$$\n",
    "\\frac{\\mathrm{d}^2 x}{\\mathrm{d} t^2}  = f\\left(x,\\frac{\\mathrm{d} x}{\\mathrm{d} t},t\\right).\n",
    "$$\n",
    "\n",
    "Les systèmes de résolution numérique sont conçus pour résoudre (voir\n",
    "par exemple la méthode d'Euler) des équations différentielles\n",
    "d'ordre 1. On transforme donc\n",
    "\n",
    "-   **une** équation différentielle d'ordre **2** dont l'inconnue est $x$\n",
    "-   en un système de **2** équations différentielles d'ordre **1**, dont les\n",
    "    inconnues sont $x$ et $x^\\prime$,\n",
    "\n",
    "en écrivant:\n",
    "\n",
    "\\begin{align*}\n",
    "  \\frac{\\mathrm{d} x}{\\mathrm{d} t}&= x^{\\prime}\\\\\n",
    "  \\frac{\\mathrm{d} x^\\prime}{\\mathrm{d} t} &= f(x,x^{\\prime},t)\n",
    "\\end{align*}\n",
    "\n",
    "Il ne reste alors plus qu'à intégrer numériquement ces deux équations\n",
    "différentielles simultanément en utilisant, par exemple la méthode\n",
    "d'Euler, ou un autre algorithme.\n",
    "\n"
   ]
  },
  {
   "cell_type": "markdown",
   "metadata": {},
   "source": [
    "### Adimensionnement du système différentiel\n",
    "\n"
   ]
  },
  {
   "cell_type": "markdown",
   "metadata": {},
   "source": [
    "Prenons l'exemple de l'oscillation d'un pendule simple de longueur\n",
    "$\\ell$, pour des amplitudes d'oscillation quelconques, en l'absence\n",
    "de frottement. L'équation différentielle vérifiée par l'angle\n",
    "$\\theta$ est:\n",
    "\n",
    "\\begin{equation*}\n",
    "  \\frac{\\mathrm{d} \\theta}{\\mathrm{d} t} +  \\omega_{0}^{2} \\sin(\\theta) = 0,\n",
    "\\end{equation*}\n",
    "\n",
    "avec $\\omega_0^2 = g/\\ell$. En introduisant la période des\n",
    "oscillations de faible amplitude $T_0 = 2\\pi/\\omega_0$, on définit\n",
    "la variable sans dimension $\\tau = t/T_0$ pour réécrire l'équation\n",
    "sous la forme:\n",
    "\n",
    "\\begin{equation*}\n",
    "  \\frac{\\mathrm{d}^2 \\theta}{\\mathrm{d} \\tau^2} +  (2 \\pi)^2*\\sin(\\theta) = 0,\n",
    "\\end{equation*}\n",
    "\n",
    "On utilisera alors $\\theta^\\prime = \\frac{\\mathrm{d}\n",
    "\\theta}{\\mathrm{d} \\tau}$ comme «vitesse adimensionnée».\n",
    "\n",
    "Remarquons qu'il n'est pas nécessaire d'adimensionner l'angle\n",
    "$\\theta$ puisqu'il est déjà sans dimension.\n",
    "\n"
   ]
  },
  {
   "cell_type": "markdown",
   "metadata": {},
   "source": [
    "### Utilisation d'`odeint`\n",
    "\n"
   ]
  },
  {
   "cell_type": "markdown",
   "metadata": {},
   "source": [
    "On cherche à intégrer numériquement le système différentiel:\n",
    "\n",
    "-   entre les instants $t_{\\min}$ et $t_{\\max}$\n",
    "-   vérifiant les conditions initiales\n",
    "    \n",
    "    \\begin{align*}\n",
    "      \\theta(t_{\\min}) = \\theta_{0}\n",
    "      \\frac{\\mathrm{d} \\theta}{\\mathrm{d} t} (t_{\\min}) = v_{0}//\\ell\n",
    "    \\end{align*}\n",
    "\n",
    "On doit pour cela définir le système différentiel, comme une fonction\n",
    "calculant les taux de variation de $\\theta$ et $\\theta^\\prime$\n",
    "connaissant leurs valeurs à $\\tau$ ainsi que l'instant $\\tau$. On\n",
    "peut définir la liste $u$ contenant $\\theta$ et $\\theta^\\prime$.\n",
    "\n"
   ]
  },
  {
   "cell_type": "code",
   "execution_count": 1,
   "metadata": {},
   "outputs": [],
   "source": [
    "def systdiff(u,tau):\n",
    "    theta,thetaprime = u\n",
    "    # d theta/d t = thetaprime\n",
    "    # d thetaprime / dt = - sin(theta)\n",
    "    return [thetaprime, - (2*np.pi)**2*np.sin(theta)]"
   ]
  },
  {
   "cell_type": "markdown",
   "metadata": {},
   "source": [
    "Ici, le système différentiel ne dépend:\n",
    "\n",
    "-   pas de la vitesse car on a négligé tout frottement,\n",
    "-   pas explicitement du temps car il n'y a pas de forçage.\n",
    "\n",
    "On définit ensuite les instants auxquels seront calculés $\\theta$ et\n",
    "$\\theta^\\prime$, en unité de $T_0$.\n",
    "\n"
   ]
  },
  {
   "cell_type": "code",
   "execution_count": 1,
   "metadata": {},
   "outputs": [],
   "source": [
    "longueur = .4 #m\n",
    "g0 = 9.8 #m/s^2\n",
    "omega0 = np.sqrt(g0/longueur) #rad/s\n",
    "T0 = 2*np.pi/omega0\n",
    "\n",
    "tau_min = 0\n",
    "tau_max = 5 #périodes T0\n",
    "NombrePoints = 2000\n",
    "tau = np.linspace(tau_min,tau_max,NombrePoints)\n",
    "mask=ma.masked_greater(tau,1).mask #pour ne conserver que l'intervalle tau = 0:1, soit t = 0:T0\n",
    "instants = tau*T0\n",
    "instantsMasked = instants[~mask]"
   ]
  },
  {
   "cell_type": "markdown",
   "metadata": {},
   "source": [
    "On définit ensuite les conditions initiales:\n",
    "\n"
   ]
  },
  {
   "cell_type": "code",
   "execution_count": 1,
   "metadata": {},
   "outputs": [],
   "source": [
    "theta0 = np.pi/2 #angle initial (rad)\n",
    "v0 =  2 #vitesse (m/s)\n",
    "thetaprime0 = v0/(longueur*T0) # (rad)\n",
    "CI = [theta0,thetaprime0]"
   ]
  },
  {
   "cell_type": "markdown",
   "metadata": {},
   "source": [
    "On appelle enfin la fonction `odeint` qui prend pour arguments la\n",
    "fonction `systdiff`, les conditions initiales et les instants\n",
    "précédemment définis.\n",
    "\n"
   ]
  },
  {
   "cell_type": "code",
   "execution_count": 1,
   "metadata": {},
   "outputs": [],
   "source": [
    "sol = odeint(systdiff,CI,tau)\n",
    "angles = sol[:,0]\n",
    "vitessesAngAdim = sol[:,1] #en unités de 1/T_0\n",
    "vitessesAng = vitessesAngAdim/T0 #en unités de 1/T_0\n",
    "vitesses = 100*vitessesAngAdim*longueur/T0 # en cm/s\n",
    "anglesMasked = angles[~mask]\n",
    "vitessesAngMasked = vitessesAng[~mask]\n",
    "vitessesMasked = vitesses[~mask]"
   ]
  },
  {
   "cell_type": "markdown",
   "metadata": {},
   "source": [
    "### Affichage des résultats\n",
    "\n"
   ]
  },
  {
   "cell_type": "markdown",
   "metadata": {},
   "source": [
    "On peut tracer $\\theta$ en fonction de $\\tau$ ou\n",
    "«redimensionner» pour le tracer en fonction de $t$.\n",
    "\n"
   ]
  },
  {
   "cell_type": "code",
   "execution_count": 1,
   "metadata": {},
   "outputs": [
    {
     "name": "stdout",
     "output_type": "stream",
     "text": [
      "# Out[39]:"
     ]
    },
    {
     "data": {
      "image/png": "[encoded data removed]",
      "text/plain": [
       "<matplotlib.figure.Figure>"
      ]
     },
     "metadata": {},
     "output_type": "display_data"
    }
   ],
   "source": [
    "figtemporel,(axtempAdim,axtempDim) = plt.subplots(1,2) #pour avoir deux figures côte à côte\n",
    "figtemporel.tight_layout()\n",
    "axtempAdim.plot(tau,angles,label='Angle')\n",
    "axtempAdim.set_xlabel(r\"$t/T_0$\")\n",
    "axtempAdim.set_ylabel(r\"$\\tau(rad)$\" )\n",
    "axtempAdim.legend(loc='best',shadow=True)\n",
    "\n",
    "axtempDim.plot(instants,angles,label='Angle')\n",
    "axtempDim.set_xlabel(r\"$t(s)$\")\n",
    "axtempDim.set_ylabel(r\"$\\tau(rad)$\" )\n",
    "axtempDim.yaxis.set_label_position(\"right\")\n",
    "axtempDim.legend(loc='best',shadow=True)\n",
    "\n",
    "figtemporel.show()"
   ]
  },
  {
   "cell_type": "markdown",
   "metadata": {},
   "source": [
    "Remarquons qu'ici la période n'est pas égale à $T_0$ puisque\n",
    "l'approximation des oscillations de faible amplitude n'est pas\n",
    "légitime.\n",
    "\n",
    "On peut également tracer la trajectoire dans l'espace des phases en\n",
    "traçant $\\frac{\\mathrm{d} \\theta}{\\mathrm{d} t}$ en fonction de\n",
    "$\\theta$. On ne la trace que sur une durée $T_0$: on observe ainsi\n",
    "que la période est supérieure, pour cette amplitude, à $T_0$\n",
    "puisqu'on n'effectue pas une oscillation complète en $T_0$.\n",
    "\n"
   ]
  },
  {
   "cell_type": "code",
   "execution_count": 1,
   "metadata": {},
   "outputs": [
    {
     "name": "stdout",
     "output_type": "stream",
     "text": [
      "# Out[50]:"
     ]
    },
    {
     "data": {
      "image/png": "[encoded data removed]",
      "text/plain": [
       "<matplotlib.figure.Figure>"
      ]
     },
     "metadata": {},
     "output_type": "display_data"
    }
   ],
   "source": [
    "figphase,axphase = plt.subplots()\n",
    "figphase.tight_layout()\n",
    "axphase.plot(anglesMasked,vitessesMasked)\n",
    "axphase.set_xlabel(r\"$\\theta$ (rad)\")\n",
    "axphase.set_ylabel(r\"$v_\\theta$(m/s)\" )\n",
    "\n",
    "figphase.show()"
   ]
  },
  {
   "cell_type": "markdown",
   "metadata": {},
   "source": [
    "Remarquons que l'utilisation de la fonction `solve_ivp` permettrait de\n",
    "déterminer directement la période puisque son argument `events`\n",
    "permettrait de renvoyer la valeur de l'instant où $\\dot{\\theta}=0$\n",
    "s'annule, soit, si l'objet a été lâché sans vitesse initiale, la durée\n",
    "d'une demi-période.\n",
    "\n",
    "Enfin, dans le cas d'un mouvement à $N$ degrés de libertés, on\n",
    "utilisera un système de $2 N$ équations différentielles de degré\n",
    "$1$. Pour un mouvement dans le plan $x,z$, on utilisera par\n",
    "exemple les grandeurs $x,z,x^\\prime, z^\\prime$.\n",
    "\n"
   ]
  },
  {
   "cell_type": "markdown",
   "metadata": {},
   "source": [
    "## Questions du DM06\n",
    "\n"
   ]
  },
  {
   "cell_type": "markdown",
   "metadata": {},
   "source": [
    "### II.3.b\n",
    "\n"
   ]
  },
  {
   "cell_type": "markdown",
   "metadata": {},
   "source": [
    "### II.3.c\n",
    "\n"
   ]
  }
 ],
 "metadata": {
  "kernelspec": {
   "display_name": "Python 3",
   "language": "python",
   "name": "python3"
  },
  "language_info": {
   "codemirror_mode": {
    "name": "ipython",
    "version": 3
   },
   "file_extension": ".py",
   "mimetype": "text/x-python",
   "name": "python",
   "nbconvert_exporter": "python",
   "pygments_lexer": "ipython3",
   "version": "3.9.7"
  },
  "org": null
 },
 "nbformat": 4,
 "nbformat_minor": 1
}
