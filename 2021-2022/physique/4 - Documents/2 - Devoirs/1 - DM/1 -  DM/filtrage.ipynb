{
 "cells": [
  {
   "cell_type": "markdown",
   "metadata": {},
   "source": [
    "Filtrage\n",
    "========\n",
    "\n",
    "**Date:** vendredi 17 décembre 2021\n",
    "\n"
   ]
  },
  {
   "cell_type": "markdown",
   "metadata": {},
   "source": [
    "## Capacité numérique\n",
    "\n"
   ]
  },
  {
   "cell_type": "markdown",
   "metadata": {},
   "source": [
    "<p class=\"verse\">\n",
    "Simuler, à l’aide d’un langage de programmation, l'action d'un filtre sur un signal périodique dont le spectre est fourni. Mettre en évidence l'influence des caractéristiques du filtre sur l'opération de filtrage.<br />\n",
    "</p>\n",
    "\n"
   ]
  },
  {
   "cell_type": "markdown",
   "metadata": {},
   "source": [
    "## Modules\n",
    "\n"
   ]
  },
  {
   "cell_type": "markdown",
   "metadata": {},
   "source": [
    "Le module `signal` de `scipy` ([documentation](https://docs.scipy.org/doc/scipy/reference/signal.html)) donne accès entre autres:\n",
    "\n",
    "-   à des fonctions représentant des signaux usuels (créneau avec\n",
    "    `square`, triangle et dents de scie avec `sawtooth`)\n",
    "-   à des fonctions définissant des fonctions de transfert de filtres\n",
    "    par les coefficients de leurs fractions rationnelles (fonction `freqs`)\n",
    "\n",
    "Le module `fft` de `scipy` ([documentation](https:/docs.scipy.org/doc/scipy/reference/generated/scipy.fftpack.fft.html)) permet entre autres de\n",
    "réaliser les transformées de Fourier et transformées de Fourier\n",
    "inverse (en utilisant l'algorithme de Fast Fourier Transform) pour:\n",
    "\n",
    "-   à partir d'un signal f(t) numérisé, calculer une approximation\n",
    "    numérique de son spectre de Fourier discret\n",
    "-   à partir d'un spectre de Fourier discret, calculer la valeur d'une\n",
    "    fonction correspondante en un ensemble d'instants.\n",
    "\n",
    "Dans ces deux cas, l'ensemble des instants où est évaluée la fonction\n",
    "et l'ensemble des fréquences où est évaluée sa transformée de Fourier\n",
    "sont tous les deux discrets.\n",
    "\n",
    "Le module `ma` de `numpy` ([documentation](https://numpy.org/doc/stable/reference/maskedarray.generic.html)) offre ici la facilité de\n",
    "«masquer» certains éléments d'un tableau qu'on souhaite éliminer: ici\n",
    "les parties du spectre de poids trop faible.\n",
    "\n"
   ]
  },
  {
   "cell_type": "code",
   "execution_count": 1,
   "metadata": {},
   "outputs": [],
   "source": [
    "%matplotlib notebook"
   ]
  },
  {
   "cell_type": "markdown",
   "metadata": {},
   "source": [
    "La ligne précédente ne doit apparaître que dans les notebooks\n",
    "`Jupyter`, pas dans un fichier python.\n",
    "\n"
   ]
  },
  {
   "cell_type": "code",
   "execution_count": 1,
   "metadata": {},
   "outputs": [
    {
     "name": "stdout",
     "output_type": "stream",
     "text": [
      "# Out[10]:"
     ]
    }
   ],
   "source": [
    "import numpy as np\n",
    "from scipy import signal\n",
    "from scipy import fftpack\n",
    "import matplotlib.pyplot as plt\n",
    "import numpy.ma as ma"
   ]
  },
  {
   "cell_type": "markdown",
   "metadata": {},
   "source": [
    "## Étude d'un filtre du premier ordre\n",
    "\n"
   ]
  },
  {
   "cell_type": "markdown",
   "metadata": {},
   "source": [
    "### Définition\n",
    "\n"
   ]
  },
  {
   "cell_type": "markdown",
   "metadata": {},
   "source": [
    "On définit un filtre passe-bas du premier ordre par son gain en bande\n",
    "passante et sa fréquence de coupure.\n",
    "\n"
   ]
  },
  {
   "cell_type": "code",
   "execution_count": 1,
   "metadata": {},
   "outputs": [
    {
     "name": "stdout",
     "output_type": "stream",
     "text": [
      "# Out[11]:"
     ]
    }
   ],
   "source": [
    "pi = np.pi\n",
    "# Définition du filtre\n",
    "f_c = 2e2              # fréquence de coupure (en Hz)\n",
    "omega_c = 2.0*pi*f_c   # pulsation de coupure (en rad/s)\n",
    "H_0 = 2                # gain en bande passante   \n",
    "# Coefficients du dénominateur rangés par degrés décroissants\n",
    "a = np.array( [1/omega_c,1.0] )\n",
    "# Coefficients du numérateur\n",
    "b = np.array( [H_0] )\n",
    "H_coeffs = (b,a)"
   ]
  },
  {
   "cell_type": "markdown",
   "metadata": {},
   "source": [
    "### Diagramme de Bode\n",
    "\n"
   ]
  },
  {
   "cell_type": "markdown",
   "metadata": {},
   "source": [
    "On fait calculer le module et l'argument de la fonction de transfert\n",
    "pour un ensemble de fréquences déterminé, choisi en échelle\n",
    "logarithmique: ici 400 fréquences équiréparties en échelle log entre\n",
    "$10^1$ et $10^5$ Hz. La fonction `signal.freqs` renvoie:\n",
    "\n",
    "-   `w` la liste des pulsations utilisées\n",
    "-   `H` le tableau des valeurs (complexes) de la fonction de transfert\n",
    "    pour ces pulsations.\n",
    "\n"
   ]
  },
  {
   "cell_type": "code",
   "execution_count": 1,
   "metadata": {},
   "outputs": [
    {
     "name": "stdout",
     "output_type": "stream",
     "text": [
      "# Out[12]:"
     ]
    }
   ],
   "source": [
    "# Plage de fréquence à étudier\n",
    "frequences = np.logspace(1 , 5 , 400)\n",
    "[ w, H ] = signal.freqs(b,a,2*pi*frequences)"
   ]
  },
  {
   "cell_type": "markdown",
   "metadata": {},
   "source": [
    "On peut ensuite tracer le diagramme de Bode correspondant.\n",
    "\n"
   ]
  },
  {
   "cell_type": "code",
   "execution_count": 1,
   "metadata": {},
   "outputs": [
    {
     "name": "stdout",
     "output_type": "stream",
     "text": [
      "# Out[13]:\n",
      "<IPython.core.display.Javascript object>"
     ]
    }
   ],
   "source": [
    "figBode1,(axBodeGain1,axBodePhase1) = plt.subplots(1,2) #pour avoir deux figures côte à côte\n",
    "figBode1.tight_layout()\n",
    "# gain en décibel, np.absolute calcule le module\n",
    "G = 20.0 * np.log10(np.absolute(H))\n",
    "# phase en degrés, np.angle calcule l'argument en radian, converti par rad2deg\n",
    "phase = np.rad2deg(np.angle(H))\n",
    "axBodeGain1.semilogx()\n",
    "axBodePhase1.semilogx()\n",
    "axBodeGain1.plot(frequences,G,label='Gain')\n",
    "axBodeGain1.set_xlabel(r\"$f(Hz)$\")\n",
    "axBodeGain1.set_ylabel(r\"$G_{dB}$\" )\n",
    "axBodePhase1.plot(frequences,phase,label='Phase')\n",
    "axBodePhase1.set_xlabel(r\"$f(Hz)$\")\n",
    "axBodePhase1.set_ylabel(r\"$phi(°)$\")\n",
    "axBodePhase1.yaxis.set_label_position(\"right\")\n",
    "axBodePhase1.legend(loc='best',shadow=True)\n",
    "axBodeGain1.legend(loc='best',shadow=True)\n",
    "figBode1.show()"
   ]
  },
  {
   "cell_type": "markdown",
   "metadata": {},
   "source": [
    "## Simulation du filtrage\n",
    "\n"
   ]
  },
  {
   "cell_type": "markdown",
   "metadata": {},
   "source": [
    "### Échantillonage de la fonction\n",
    "\n"
   ]
  },
  {
   "cell_type": "markdown",
   "metadata": {},
   "source": [
    "On calcule les valeurs de la fonction sur laquelle sera appliquée le\n",
    "filtre sur un échantillon d'instants. La durée entre deux instants\n",
    "`Delta_t` doit être suffisamment courte pour que deux fonctions\n",
    "différentes n'aient pas le même échantillonage. On utilisera le\n",
    "«critère de Shannon» selon lequel `Delta_t = 1/(2 fmax)` avec `fmax` la\n",
    "fréquence maximale du spectre du signal.\n",
    "\n",
    "On utilise ici une fonction créneau de fréquence `fCre`. Pour\n",
    "que son échantillonnage reproduise fidèlement ses harmoniques jusqu'au\n",
    "rang `9`, on doit donc échantillonner avec `Delta_t = 1/(18 fCre)`. On\n",
    "rajoute un facteur `10` pour augmenter la précision.\n",
    "\n"
   ]
  },
  {
   "cell_type": "code",
   "execution_count": 1,
   "metadata": {},
   "outputs": [
    {
     "name": "stdout",
     "output_type": "stream",
     "text": [
      "# Out[14]:\n",
      "<IPython.core.display.Javascript object>"
     ]
    }
   ],
   "source": [
    "HarmoniqueMax = 9\n",
    "fCre = 100 #Hz\n",
    "Delta_t = 1/(20*HarmoniqueMax*fCre)\n",
    "echantillon_t = np.arange(0,20/fCre,Delta_t) # pour disposer de 20 périodes pour l'échantillonage\n",
    "EntreeCreneau = signal.square(echantillon_t*2*pi*fCre) # signal.square a pour période 2 pi\n",
    "figCreneau,axCreneau = plt.subplots()\n",
    "axCreneau.set_xlim(0,3/fCre)\n",
    "axCreneau.plot(echantillon_t,EntreeCreneau)\n",
    "axCreneau.set_xlabel(r\"$t(s)$\")\n",
    "axCreneau.set_ylabel(r\"U(V)\" )\n",
    "figCreneau.show()"
   ]
  },
  {
   "cell_type": "markdown",
   "metadata": {},
   "source": [
    "### Transformée de Fourier rapide\n",
    "\n"
   ]
  },
  {
   "cell_type": "markdown",
   "metadata": {},
   "source": [
    "On calcule les fréquences `FrequencesFFTCreneau` adaptées à\n",
    "l'échantillonage avec `fftfreq`. On applique la transformée de Fourier\n",
    "rapide au signal échantillonné avec `fft` pour obtenir\n",
    "`FFTEntreCreneau`, un tableau des amplitudes complexes des composantes\n",
    "de Fourier de `EntreeCreneau`. Le masque `mask` permet de ne garder à\n",
    "l'affichage que les composantes de Fourier dont l'amplitude est\n",
    "supérieure à un seuil.\n",
    "\n",
    "On trace ensuite les modules de ces amplitudes complexes.\n",
    "\n"
   ]
  },
  {
   "cell_type": "code",
   "execution_count": 1,
   "metadata": {},
   "outputs": [
    {
     "name": "stdout",
     "output_type": "stream",
     "text": [
      "# Out[15]:\n",
      "<matplotlib.legend.Legend at 0x7f87ae6aafd0>\n",
      "<IPython.core.display.Javascript object>"
     ]
    }
   ],
   "source": [
    "FrequencesFFTCreneau =  fftpack.fftfreq(len(EntreeCreneau) , Delta_t)\n",
    "FFTEntreeCreneau = fftpack.fft(EntreeCreneau)\n",
    "CutoffGdB=40\n",
    "FFTEntreeCreneauGdB=20*np.log10(np.absolute(FFTEntreeCreneau))\n",
    "mask=ma.masked_less(FFTEntreeCreneauGdB,np.max(FFTEntreeCreneauGdB)-CutoffGdB).mask\n",
    "FrequencesFFTCreneauMasked=FrequencesFFTCreneau[~mask]\n",
    "FFTEntreeCreneauMasked=FFTEntreeCreneau[~mask]\n",
    "FFTEntreeCreneauGdBMasked=FFTEntreeCreneauGdB[~mask]\n",
    "figFFTCreneau,(axFFTEntreeCreneau,axFFTSortieCreneau) = plt.subplots(1,2) #pour avoir deux figures côte à côte\n",
    "figFFTCreneau.tight_layout()\n",
    "axFFTEntreeCreneau.plot(FrequencesFFTCreneauMasked,np.absolute(FFTEntreeCreneauMasked),'o',label='Entree')\n",
    "axFFTEntreeCreneau.set_xlabel(r\"$f(Hz)$\")\n",
    "axFFTEntreeCreneau.set_ylabel(r\"amplitude entrée\" )\n",
    "axFFTEntreeCreneau.set_xlim([0, HarmoniqueMax*fCre])\n",
    "axFFTEntreeCreneau.grid(which='both')\n",
    "axFFTEntreeCreneau.legend(loc='best',shadow=True)"
   ]
  },
  {
   "cell_type": "markdown",
   "metadata": {},
   "source": [
    "On évalue ensuite les valeurs du gain complexe `HFFTCreneau` calculé\n",
    "pour ces fréquences puis on multiplie une à une les amplitudes de\n",
    "`FFTEntreeCreneau` par la valeur du gain `HFFTCreneau` pour obtenir la\n",
    "transformée de Fourier discrète du signal de sortie\n",
    "`FFTSortieCreneau`.\n",
    "\n"
   ]
  },
  {
   "cell_type": "code",
   "execution_count": 1,
   "metadata": {},
   "outputs": [
    {
     "name": "stdout",
     "output_type": "stream",
     "text": [
      "# Out[16]:"
     ]
    }
   ],
   "source": [
    "HFFTCreneau = signal.freqs(b,a,2*pi*FrequencesFFTCreneau)[1]\n",
    "FFTSortieCreneau = HFFTCreneau * FFTEntreeCreneau\n",
    "FFTSortieCreneauMasked = FFTSortieCreneau[~mask]\n",
    "axFFTSortieCreneau.plot(FrequencesFFTCreneauMasked,np.absolute(FFTSortieCreneauMasked),'+',label='Sortie')\n",
    "axFFTSortieCreneau.set_xlabel(r\"$f(Hz)$\")\n",
    "axFFTSortieCreneau.set_ylabel(r\"amplitude sortie\" )\n",
    "axFFTSortieCreneau.set_xlim([0, HarmoniqueMax*fCre])\n",
    "axFFTSortieCreneau.grid(which='both')\n",
    "axFFTSortieCreneau.yaxis.set_label_position(\"right\")\n",
    "axFFTSortieCreneau.legend(loc='best',shadow=True)\n",
    "figFFTCreneau.show()"
   ]
  },
  {
   "cell_type": "markdown",
   "metadata": {},
   "source": [
    "Il suffit ensuite d'utiliser la transformée de Fourier Inverse `ifft` \n",
    "pour retrouver la fonction en sortie de filtre, qu'on superpose à la\n",
    "fonction en entrée pour les comparer.\n",
    "\n",
    "L'algorithme d'aller-et-retour entre `fft` et `ifft` peut faire\n",
    "apparaître des parties imaginaires dans le signal de\n",
    "sortie. On vérifie qu'elles sont négligeables avec `max(np.imag)` et\n",
    "on ne trace que la partie réelle\n",
    "\n"
   ]
  },
  {
   "cell_type": "code",
   "execution_count": 1,
   "metadata": {},
   "outputs": [
    {
     "name": "stdout",
     "output_type": "stream",
     "text": [
      "# Out[17]:\n",
      "<IPython.core.display.Javascript object>"
     ]
    }
   ],
   "source": [
    "SortieCreneau = fftpack.ifft(FFTSortieCreneau)\n",
    "figCreneauES,axCreneauES = plt.subplots()\n",
    "axCreneauES.plot(echantillon_t,EntreeCreneau,label='entree')\n",
    "print(f'max des parties imaginaires {max(np.imag(SortieCreneau))}')\n",
    "axCreneauES.plot(echantillon_t,np.real(SortieCreneau),label='sortie') \n",
    "axCreneauES.set_xlim([0, 3/fCre])\n",
    "axCreneauES.set_xlabel(r't(s)')\n",
    "axCreneauES.set_ylabel(r'U(V)')\n",
    "axCreneauES.legend(loc='best',shadow=True)\n",
    "figCreneauES.show()"
   ]
  },
  {
   "cell_type": "markdown",
   "metadata": {},
   "source": [
    "## Questions du DM05\n",
    "\n"
   ]
  },
  {
   "cell_type": "markdown",
   "metadata": {},
   "source": [
    "### II4a\n",
    "\n"
   ]
  },
  {
   "cell_type": "markdown",
   "metadata": {},
   "source": [
    "### II4c\n",
    "\n"
   ]
  },
  {
   "cell_type": "markdown",
   "metadata": {},
   "source": [
    "### III4b\n",
    "\n"
   ]
  }
 ],
 "metadata": {
  "kernelspec": {
   "display_name": "Python 3",
   "language": "python",
   "name": "python3"
  },
  "language_info": {
   "codemirror_mode": {
    "name": "ipython",
    "version": 3
   },
   "file_extension": ".py",
   "mimetype": "text/x-python",
   "name": "python",
   "nbconvert_exporter": "python",
   "pygments_lexer": "ipython3",
   "version": "3.9.7"
  },
  "org": null
 },
 "nbformat": 4,
 "nbformat_minor": 1
}
