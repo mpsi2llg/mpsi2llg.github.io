{
 "cells": [
  {
   "cell_type": "markdown",
   "metadata": {},
   "source": [
    "Résolution numérique d'équations différentielles linéaire du 1\\ier ordre par la méthode d'Euler\n",
    "===============================================================================================\n",
    "\n",
    "**Date:** vendredi 22 octobre 2021\n",
    "\n"
   ]
  },
  {
   "cell_type": "markdown",
   "metadata": {},
   "source": [
    "## Capacité numérique:\n",
    "\n"
   ]
  },
  {
   "cell_type": "markdown",
   "metadata": {},
   "source": [
    "<p class=\"verse\">\n",
    "Mettre en œuvre la méthode d’Euler à l’aide d’un langage de programmation pour simuler la réponse d’un système linéaire du premier ordre à une excitation de forme quelconque.<br />\n",
    "</p>\n",
    "\n"
   ]
  },
  {
   "cell_type": "markdown",
   "metadata": {},
   "source": [
    "## Méthode d'Euler\n",
    "\n"
   ]
  },
  {
   "cell_type": "markdown",
   "metadata": {},
   "source": [
    "### Équation différentielle à second membre quelconque\n",
    "\n"
   ]
  },
  {
   "cell_type": "markdown",
   "metadata": {},
   "source": [
    "Considérons le cas d'une équation différentielle linéaire faisant\n",
    "intervenir les dérivées temporelles d'une grandeur $x(t)$\n",
    "quelconque.\n",
    "\n",
    "On recherche numériquement, sur un intervalle de temps choisi, une\n",
    "approximation de la solution à une équation différentielle de la\n",
    "forme:\n",
    "\n",
    "$$\n",
    "\\frac{\\mathrm{d}x}{\\mathrm{d} t} + \\frac{x}{\\tau} = f(t) \\quad\n",
    "\\text{vérifiant la condition initiale: } x(t_0) = x_0.\n",
    "$$\n",
    "\n",
    "Sa solution est l'unique fonction $x(t)$ telle que $x(t_0)=0$ et\n",
    "vérifiant cette équation différentielle, dans laquelle$f(t)$ est une\n",
    "fonction quelconque, **connue**, du temps.\n",
    "\n"
   ]
  },
  {
   "cell_type": "markdown",
   "metadata": {},
   "source": [
    "### Approximation numérique\n",
    "\n"
   ]
  },
  {
   "cell_type": "markdown",
   "metadata": {},
   "source": [
    "La méthode d'Euler consiste à;\n",
    "\n",
    "-   choisir un intervalle de temps\n",
    "    $\\left[t_\\mathrm{min};t_\\mathrm{max}\\right]$ sur lequel on\n",
    "    souhaite obtenir une approximation de $x(t)$;\n",
    "-   le subdiviser en $N$ intervalles (équidistants la plupart du\n",
    "    temps) pour définir les instants $t_i$ avec $i \\in\n",
    "      \\left[0;N-1\\right]$;\n",
    "-   rechercher des valeurs approchées de $x(t_i)$.\n",
    "\n",
    "Pour cela, on approxime sur chaque intervalle $t_i,t_{i+1}$ la\n",
    "variation de la fonction $x(t)$ inconnue par sa dérivée en $t_i$,\n",
    "donnée par l'équation différentielle, selon: \n",
    "\n",
    "$$\n",
    "x(t_{i+1}) \\simeq  x (t_i) + \\frac{\\mathrm{d}x}{\\mathrm{d} t} (t_i)\n",
    "\\left(t_{i+1} - t_i\\right)\n",
    "$$\n",
    "\n",
    "La connaissance de la valeur de la condition initiale $x(t_0)$\n",
    "permet alors, de calculer par récurrence, $x(t_1)$, puis $x(t_2)$…\n",
    "\n"
   ]
  },
  {
   "cell_type": "markdown",
   "metadata": {},
   "source": [
    "## Algorithme\n",
    "\n"
   ]
  },
  {
   "cell_type": "markdown",
   "metadata": {},
   "source": [
    "### Modules nécessaires\n",
    "\n"
   ]
  },
  {
   "cell_type": "code",
   "execution_count": 1,
   "metadata": {},
   "outputs": [],
   "source": [
    "import numpy as np\n",
    "import scipy as sp\n",
    "import matplotlib.pyplot as plt"
   ]
  },
  {
   "cell_type": "code",
   "execution_count": 1,
   "metadata": {},
   "outputs": [],
   "source": [
    "%matplotlib notebook"
   ]
  },
  {
   "cell_type": "markdown",
   "metadata": {},
   "source": [
    "La ligne précédente ne doit apparaître que dans les notebooks\n",
    "`Jupyter`, pas dans un fichier python.\n",
    "\n"
   ]
  },
  {
   "cell_type": "markdown",
   "metadata": {},
   "source": [
    "### Fonctions définies par morceau\n",
    "\n"
   ]
  },
  {
   "cell_type": "markdown",
   "metadata": {},
   "source": [
    "La fonction `piecewise` du module `numpy` permet de définir des\n",
    "fonctions par morceau. Elle permet en particulier de définir la\n",
    "fonction discontinue de Heaviside, utile pour étudier la réponse à un\n",
    "échelon.\n",
    "\n",
    "On peut l'appliquer à un tableau (cas `y1`) ou à un scalaire (cas\n",
    "`y2`).\n",
    "\n"
   ]
  },
  {
   "cell_type": "code",
   "execution_count": 1,
   "metadata": {},
   "outputs": [],
   "source": [
    "figHeaviside,axHeaviside = plt.subplots()\n",
    "\n",
    "x = np.linspace(-5,5,200)\n",
    "y1 = np.piecewise(x,[x<2,x>=2],[2,3])\n",
    "\n",
    "def Heaviside(x,params):\n",
    "    x0, yavant, yapres = params\n",
    "    return np.piecewise(x,[x<x0,x>=x0],[yavant,yapres])\n",
    "\n",
    "params = [1,-4,6] \n",
    "y2 = Heaviside(x,params)\n",
    "\n",
    "axHeaviside.set_xlabel('abscisse')\n",
    "axHeaviside.set_ylabel('ordonnée')\n",
    "axHeaviside.set_title('titre')\n",
    "axHeaviside.plot(x,y1,'b',label='Heaviside')\n",
    "axHeaviside.plot(x,y2,'r',label='Heaviside2')\n",
    "axHeaviside.legend(loc='best',shadow=True)\n",
    "\n",
    "figHeaviside.show()"
   ]
  },
  {
   "cell_type": "markdown",
   "metadata": {},
   "source": [
    "## Dipôle RC série soumis à un échelon de tension\n",
    "\n"
   ]
  },
  {
   "cell_type": "markdown",
   "metadata": {},
   "source": [
    "### Équation différentielle canonique adimensionnée\n",
    "\n"
   ]
  },
  {
   "cell_type": "markdown",
   "metadata": {},
   "source": [
    "On étudie le cas classique d'un dipôle RC série soumis à un échelon de\n",
    "tension\n",
    "\n",
    "![img](/home/wilk/enseignement/schemas/electrocinetique/exo-charge-condensateur.png)\n",
    "\n",
    "La tension $u_C$ est solution de l'équation:\n",
    "$$\n",
    "\\frac{\\mathrm{d} u_C}{\\mathrm{d} t} + \\frac{u_C}{\\tau} =\n",
    "\\frac{E}{\\tau} H(t), \n",
    "$$\n",
    "\n",
    "avec $H(t)$ la fonction de Heaviside, $\\tau = R C$. On peut\n",
    "étudier numériquement cette équation avec des valeurs de $t$$ et $u_C$\n",
    "respectivement dimensionnées en millisecondes et en Volts.\n",
    "\n",
    "Il est cependant possible de les **adimensionner** en définissant les\n",
    "nombres sans dimension:\n",
    "\n",
    "-   $U = u_C/E$;\n",
    "-   $t^\\prime = t/\\tau$.\n",
    "\n",
    "L'équation devient alors:\n",
    "$$\n",
    "\\frac{\\mathrm{d} U}{\\mathrm{d} t^\\prime} + U = H(t).\n",
    "$$\n",
    "On souligne ainsi le caractère universel de cette équation et on ne\n",
    "manipule que des nombres de l'ordre de l'unité, ce qui est souvent\n",
    "plus facile à interpréter.\n",
    "\n",
    "Dans l'exemple ci-dessous, on a $C = 1\\mathrm{\\mu F}$, $R =\n",
    "1\\mathrm{k \\Omega}$, $E = 5\\mathrm{V}$. Le symbole `t` désigne la\n",
    "variable adimensionnée $t/\\tau$ et `U` la variable adimensionnée\n",
    "$u_C/E$.\n",
    "\n"
   ]
  },
  {
   "cell_type": "code",
   "execution_count": 1,
   "metadata": {},
   "outputs": [],
   "source": [
    "NombrePoints = 2000\n",
    "\n",
    "#  Paramètres\n",
    "E = 5 # en V\n",
    "R = 1e3 # en ohm\n",
    "C = 1e-6 # en F\n",
    "\n",
    "tau = R*C # en s\n",
    "print(f'constante de temps: tau= {1e3*tau} ms\\n valeur asymptotique: uCinf = {E} V')\n",
    "\n",
    "tmin = -2 # en unités de tau\n",
    "tmax = 6\n",
    "t = np.linspace(tmin,tmax,NombrePoints)\n",
    "Deltat = (tmax-tmin)/(NombrePoints -1)\n",
    "\n",
    "def dxoverdt(t,x,params):\n",
    "    t0,tau,xinfty = params\n",
    "    return np.piecewise(t,[t<t0,t>=t0],[-x/tau,(xinfty-x)/tau])\n",
    "\n",
    "x = np.zeros(NombrePoints)\n",
    "\n",
    "params = [0,1,3]\n",
    "\n",
    "for i in range(NombrePoints-1):\n",
    "    x[i+1] = x[i]+ Deltat*dxoverdt(t[i],x[i],params)\n",
    "\n",
    "figequadiff,axequadiff = plt.subplots()\n",
    "\n",
    "axequadiff.set_xlabel('t/tau')\n",
    "axequadiff.set_ylabel('u/E')\n",
    "axequadiff.set_title('Réponse d\\'un dipôle RC à un échelon de tension')\n",
    "axequadiff.plot(t,x,'b',label='uc/E')\n",
    "axequadiff.legend(loc='best',shadow=True)\n",
    "\n",
    "figequadiff.show()"
   ]
  },
  {
   "cell_type": "markdown",
   "metadata": {},
   "source": [
    "### Module `scipy.integrate`\n",
    "\n"
   ]
  },
  {
   "cell_type": "markdown",
   "metadata": {},
   "source": [
    "La méthode d'Euler est le plus simple des algorithmes de résolution\n",
    "d'équations numériques d'équations différentielles et ne sera pas le\n",
    "plus performant pour certaines équations différentielles plus\n",
    "délicates à manipuler que l'exemple présenté ci-dessus, en cherchant\n",
    "des approximations plus précises de la variation\n",
    "$x(t_{i+1})-x(t_{i})$, au prix d'un algorithme plus compliqué.\n",
    "\n",
    "Le module `scipy.integrate` permet de les utiliser sans avoir à coder\n",
    "la boucle `for`. On présente ci-après un exemple de l'utilisation de\n",
    "sa fonction `solve_ivp` (pour Solve Initial Value Problem). Elle peut\n",
    "résoudre un système d'équations différentielles couplées. Elle prend\n",
    "pour arguments nécessaires:\n",
    "\n",
    "-   le tableau des dérivées des fonctions recherchées (comme dans le cas\n",
    "    de la méthode d'Euler) en fonctions des valeurs des différentes\n",
    "    fonctions,\n",
    "-   le tableau de l'intervalle de temps sur lequel rechercher la solution\n",
    "-   le tableau des conditions initiales,\n",
    "\n",
    "Notons que le pas d'intégration qui était constant à `Deltat` dans la\n",
    "méthode d'Euler précédente sera ici variable et géré par l'algorithme.\n",
    "\n",
    "Comme arguments optionnels, citons:\n",
    "\n",
    "-   la liste `t_eval` des instants auxquels évaluer la fonction\n",
    "    recherchée\n",
    "-   des paramètres `args` pour le calcul des dérivées,\n",
    "-   l'algorithme `method` utilisé (voir la documentation)\n",
    "-   des évènements `events` particuliers (valeurs de la fonction, de sa dérivée…)\n",
    "-   un intervalle `max_step` imposant une taille maximale pour les\n",
    "    intervalles de temps considérés: il est préférable de l'utiliser\n",
    "    dans cet exemple où l'équation différentielle fait intervenir une\n",
    "    fonction discontinue\n",
    "\n",
    "Elle retourne:\n",
    "\n",
    "-   les instants où a été évaluée la fonction recherchée,\n",
    "-   ses valeurs en ces instants,\n",
    "-   une interpolation de la fonction recherchée, si l'option\n",
    "    `dense_output=True` a été utilisée,\n",
    "\n",
    "Si on a utilisé l'option `events`, elle retourne aussi les instants et\n",
    "valeurs de la fonction des évènements recherchés\n",
    "\n",
    "Dans l'exemple précédent du dipôle RC, on n'utilise pas de tableau\n",
    "mais de simples scalaires car on ne recherche qu'une seule fonction\n",
    "$u_C(t$\\\\). On utilisera en revanche un tableau pour:\n",
    "\n",
    "-   traiter un circuit à plusieurs mailles,\n",
    "-   traiter un circuit à une seule maille régi par une équation\n",
    "    différentielle d'ordre strictement supérieur à 1.\n",
    "\n"
   ]
  },
  {
   "cell_type": "code",
   "execution_count": 1,
   "metadata": {},
   "outputs": [],
   "source": [
    "from scipy.integrate import solve_ivp\n",
    "\n",
    "# paramètres de l'échelon\n",
    "t0 = 0\n",
    "xavant = 2\n",
    "xapres = 5\n",
    "\n",
    "def dxoverdt(t,x,t0,xavant,xapres):\n",
    "    return np.piecewise(t,[t<t0,t>=t0],[xavant-x,xapres-x])\n",
    "\n",
    "# intervalle de temps\n",
    "tmin = -2 # en unités de tau\n",
    "tmax = 5\n",
    "\n",
    "# évènements à rechercher: ici passage par x=4\n",
    "def passage(t,x,t0,xavant,xapres):\n",
    "    return x[0]-4\n",
    "\n",
    "# Condition initiale (à t = tmin)\n",
    "CI = [0]\n",
    "\n",
    "# Résolution numérique de l'équation différentielle\n",
    "solution = solve_ivp(dxoverdt,[tmin,tmax],CI,args=(t0,xavant,xapres),events=passage,dense_output=True,max_step=.1)\n",
    "\n",
    "print(f'passage à {solution.y_events} en t={solution.t_events}')\n",
    "\n",
    "figSolveIVP,axSolveIVP = plt.subplots()\n",
    "\n",
    "axSolveIVP.set_xlabel('t/tau')\n",
    "axSolveIVP.set_ylabel('u/E')\n",
    "axSolveIVP.set_title('Résolution par SolveIVP')\n",
    "axSolveIVP.plot(solution.t,solution.y[0],'b+',label='Valeurs évaluées')\n",
    "\n",
    "NombrePoints = 200\n",
    "instants = np.linspace(tmin,tmax,NombrePoints)\n",
    "valeurs = solution.sol(instants)\n",
    "axSolveIVP.plot(instants,valeurs.T,'r',label='Fonction interpolée')\n",
    "axSolveIVP.legend(loc='best',shadow=True)\n",
    "\n",
    "figSolveIVP.show()"
   ]
  },
  {
   "cell_type": "markdown",
   "metadata": {},
   "source": [
    "## Questions du DM03\n",
    "\n"
   ]
  },
  {
   "cell_type": "markdown",
   "metadata": {},
   "source": [
    "### III.1.a\n",
    "\n"
   ]
  },
  {
   "cell_type": "markdown",
   "metadata": {},
   "source": [
    "On a maintenant:\n",
    "\n"
   ]
  },
  {
   "cell_type": "code",
   "execution_count": 1,
   "metadata": {},
   "outputs": [],
   "source": [
    "NombrePoints = 2000\n",
    "\n",
    "#  Paramètres\n",
    "E = 10 # en V\n",
    "R = 500 # en ohm\n",
    "L = 2.9e-2 # en H\n",
    "\n",
    "uR = E # en V\n",
    "tau = L/R # en s\n",
    "print(f'constante de temps: tau= {1e3*tau} ms\\n valeur asymptotique: uR = {uR} V')\n",
    "\n",
    "tmin = -.2 # en unités de tau\n",
    "tmax = 6\n",
    "t = np.linspace(tmin,tmax,NombrePoints)\n",
    "Deltat = (tmax-tmin)/(NombrePoints -1)\n",
    "\n",
    "def dxoverdt(t,x,params):\n",
    "    t0,tau,xinfty = params\n",
    "    return np.piecewise(t,[t<t0,t>=t0],[-x/tau,(xinfty-x)/tau])\n",
    "\n",
    "x = np.zeros(NombrePoints)\n",
    "\n",
    "params = [0,1,E]\n",
    "\n",
    "for i in range(NombrePoints-1):\n",
    "    x[i+1] = x[i]+ Deltat*dxoverdt(t[i],x[i],params)\n",
    "\n",
    "figequadiff,axequadiff = plt.subplots()\n",
    "\n",
    "axequadiff.set_xlabel('t/tau')\n",
    "axequadiff.set_ylabel('uR (V)')\n",
    "axequadiff.set_title('Réponse d\\'un dipôle RL à un échelon de tension')\n",
    "axequadiff.plot(t,x,'b',label='uR')\n",
    "axequadiff.legend(loc='best',shadow=True)\n",
    "\n",
    "figequadiff.show()"
   ]
  },
  {
   "cell_type": "markdown",
   "metadata": {},
   "source": [
    "### III.1.b\n",
    "\n"
   ]
  },
  {
   "cell_type": "markdown",
   "metadata": {},
   "source": [
    "On trace plus précisément la courbe entre $\\tau$ et $1.3 \\tau$ à\n",
    "l'aide de l'option `set_xlim`, on rajoute une grille pour guider l'œil\n",
    "avec l'option  `grid`, qu'on affine avec `[x/y]axis.set_minor_locat`\n",
    "\n"
   ]
  },
  {
   "cell_type": "code",
   "execution_count": 1,
   "metadata": {},
   "outputs": [],
   "source": [
    "from matplotlib.ticker import (MultipleLocator, AutoMinorLocator)\n",
    "figzoom,axezoom = plt.subplots()\n",
    "axezoom.xaxis.set_minor_locator(MultipleLocator(0.01))\n",
    "axezoom.yaxis.set_minor_locator(MultipleLocator(0.005))\n",
    "\n",
    "axezoom.set_xlabel('t/tau')\n",
    "axezoom.set_ylabel('uR (V)')\n",
    "axezoom.set_title('Réponse d\\'un dipôle RL à un échelon de tension')\n",
    "axezoom.plot(t,x,'b',label='uR')\n",
    "axezoom.legend(loc='best',shadow=True)\n",
    "axezoom.set_xlim(.9,.93)\n",
    "axezoom.set_ylim(5.8,6.2)\n",
    "axezoom.grid(which='both')\n",
    "\n",
    "figzoom.show()"
   ]
  },
  {
   "cell_type": "markdown",
   "metadata": {},
   "source": [
    "On y vérifie que $u_R = 6$V pour $t = 9.16e-1\\tau = 5.3e-5$s.\n",
    "\n"
   ]
  },
  {
   "cell_type": "markdown",
   "metadata": {},
   "source": [
    "### III.2.a\n",
    "\n"
   ]
  },
  {
   "cell_type": "markdown",
   "metadata": {},
   "source": [
    "Ici on n'adimensionne pas l'équation car on doit comparer deux\n",
    "échelles de temps, $\\tau$ et la période de commutation. On définit\n",
    "la fonction  `dxoverdtCommutation` qui retourne:\n",
    "\n",
    "$$\n",
    "-\\frac{i}{\\tau} \\pm \\frac{i_\\infty}{\\tau}.\n",
    "$$\n",
    "\n",
    "selon la demi-période dans laquelle elle se trouve. Pour ce faire, on\n",
    "utilise l'opérateur `//` qui donne le quotient entier et l'opérateur\n",
    "`%` qui donne le reste (de la division par 2 ici pour tester la\n",
    "parité).\n",
    "\n",
    "Le reste du code est similaire au précédent à ceci près que cette\n",
    "fonction dépend de deux paramètres temporels : la période de\n",
    "commutation et la constante de temps du dipôle RL.\n",
    "\n"
   ]
  },
  {
   "cell_type": "code",
   "execution_count": 1,
   "metadata": {},
   "outputs": [],
   "source": [
    "def dxoverdtCommutation(t,x,params):\n",
    "    periode, tau, ybas, yhaut = params\n",
    "    demiperiode = periode/2\n",
    "    parite = (np.floor(t//demiperiode))%2 # vaut 0 ou 1 selon la 1/2 période dans laquelle on est\n",
    "    return (np.piecewise(t,[parite != 0, parite == 0 ],[ybas,yhaut]) -x)/tau\n",
    "\n",
    "iLinf = 1000*E/R # en mA\n",
    "tau = 1000*L/R # en ms\n",
    "tmin = 0\n",
    "periode = 1/5 # en ms\n",
    "NombrePeriodes = 10\n",
    "tmax = NombrePeriodes * periode\n",
    "t = np.linspace(tmin,tmax,NombrePoints)\n",
    "Deltat = (tmax-tmin)/(NombrePoints -1)\n",
    "params = [periode,tau,-iLinf,iLinf] # t ms\n",
    "x = np.zeros(NombrePoints)\n",
    "\n",
    "for i in range(NombrePoints-1):\n",
    "    x[i+1] = x[i]+ Deltat*dxoverdtCommutation(t[i],x[i],params)\n",
    "\n",
    "figCommutation,axCommutation = plt.subplots()\n",
    "\n",
    "axCommutation.set_xlabel('t (ms)')\n",
    "axCommutation.set_ylabel('iL (mA)')\n",
    "axCommutation.set_title('Réponse d\\'un dipôle RL à un créneau de tension')\n",
    "axCommutation.plot(t,x,'b',label='iL')\n",
    "axCommutation.legend(loc='best',shadow=True)\n",
    "\n",
    "figCommutation.show()"
   ]
  },
  {
   "cell_type": "markdown",
   "metadata": {},
   "source": [
    "On sélectionne ensuite des tranches (\"slices\" en python) du tableau\n",
    "`x` correspondant à chaque demi-période et on en prend les valeurs\n",
    "moyenne, minimale et maximale. On peut le faire en calculant combien\n",
    "de points compte chaque tranche comme dans l'exemple suivant:\n",
    "\n"
   ]
  },
  {
   "cell_type": "code",
   "execution_count": 1,
   "metadata": {},
   "outputs": [],
   "source": [
    "NombrePointsDemiPeriode = int((periode/(2*Deltat)))+1\n",
    "\n",
    "iLmoyenneA = np.zeros(NombrePeriodes) # 1/2 périodes impaires\n",
    "iLminA = np.zeros(NombrePeriodes)\n",
    "iLmaxA = np.zeros(NombrePeriodes)\n",
    "\n",
    "for i in range(NombrePeriodes):\n",
    "    iLmoyenneA[i] = np.average(x[2*i*NombrePointsDemiPeriode:(2*i+1)*NombrePointsDemiPeriode])\n",
    "    iLminA[i] = np.min(x[2*i*NombrePointsDemiPeriode:(2*i+1)*NombrePointsDemiPeriode])\n",
    "    iLmaxA[i] = np.max(x[2*i*NombrePointsDemiPeriode:(2*i+1)*NombrePointsDemiPeriode])\n",
    "\n",
    "print('1/2 périodes impaires')\n",
    "print(f'valeurs moyennes de iL (en mA): {iLmoyenneA}\\nvaleurs max: {iLmaxA}\\nvaleurs min {iLminA}')\n",
    "\n",
    "\n",
    "iLmoyenneB = np.zeros(NombrePeriodes) # 1/2 périodes paires\n",
    "iLminB = np.zeros(NombrePeriodes)\n",
    "iLmaxB = np.zeros(NombrePeriodes)\n",
    "\n",
    "for i in range(NombrePeriodes):\n",
    "    iLmoyenneB[i] = np.average(x[(2*i+1)*NombrePointsDemiPeriode:(2*i+2)*NombrePointsDemiPeriode])\n",
    "    iLminB[i] = np.min(x[(2*i+1)*NombrePointsDemiPeriode:(2*i+2)*NombrePointsDemiPeriode])\n",
    "    iLmaxB[i] = np.max(x[(2*i+1)*NombrePointsDemiPeriode:(2*i+2)*NombrePointsDemiPeriode])\n",
    "\n",
    "print('1/2 périodes paires')\n",
    "print(f'valeurs moyennes de iL (en mA): {iLmoyenneB}\\nvaleurs max: {iLmaxB}\\nvaleurs min {iLminB}')"
   ]
  },
  {
   "cell_type": "markdown",
   "metadata": {},
   "source": [
    "La détermination des indices à sélectionner peut cependant être\n",
    "délicate si la durée `Deltat` et la demi-période de commutation ne\n",
    "sont pas commensurables. On préférera utiliser les possibilités plus\n",
    "avancées de sélection selon:\n",
    "\n"
   ]
  },
  {
   "cell_type": "code",
   "execution_count": 1,
   "metadata": {},
   "outputs": [],
   "source": [
    "iLmoyenneC = np.zeros(NombrePeriodes)\n",
    "iLminC = np.zeros(NombrePeriodes)\n",
    "iLmaxC = np.zeros(NombrePeriodes)\n",
    "for i in range(NombrePeriodes):\n",
    "    xTemp = [x[j] for j in range(len(x)) if t[j] >= i*periode and t[j] < (i+1/2) * periode]\n",
    "    iLmoyenneC[i] = np.average(xTemp)\n",
    "    iLminC[i] = np.min(xTemp)\n",
    "    iLmaxC[i] = np.max(xTemp)\n",
    "\n",
    "print('1/2 periodes impaires')\n",
    "print(f'valeurs moyennes de iL (en mA): {iLmoyenneC}\\nvaleurs max: {iLmaxC}\\nvaleurs min {iLminC}')"
   ]
  },
  {
   "cell_type": "markdown",
   "metadata": {},
   "source": [
    "### III.2.b\n",
    "\n"
   ]
  },
  {
   "cell_type": "markdown",
   "metadata": {},
   "source": [
    "On définit la fonction en «dents de scie» à utiliser dans l'équation\n",
    "différentielle, en utilisant le reste `t % demiperiode` et la parité\n",
    "`(t//demiperiode)%2` pour distinguer les demiperiodes paire ou\n",
    "impaire.\n",
    "\n"
   ]
  },
  {
   "cell_type": "code",
   "execution_count": 1,
   "metadata": {},
   "outputs": [],
   "source": [
    "def dxoverdtTriangle(t,x,params):\n",
    "  periode, tau, ybas, yhaut = params\n",
    "  demiperiode = periode/2\n",
    "  reste = t % demiperiode\n",
    "  pente = (yhaut-ybas)/demiperiode\n",
    "  parite = (t//demiperiode)%2 # vaut 0 ou 1 selon la 1/2 période dans laquelle on est\n",
    "  return  (np.piecewise(t,[(t//demiperiode)%2 != 0, (t//demiperiode)%2 == 0 ],[lambda t: ybas+pente*(t % demiperiode), lambda t: yhaut-pente*(t % demiperiode)])-x)/tau"
   ]
  },
  {
   "cell_type": "markdown",
   "metadata": {},
   "source": [
    "Remarque: la syntaxe en `lambda t:`, définissant d'une certaine\n",
    "manière une fonction «en ligne» est celle attendue par\n",
    "`np.piecewise()` dans le cas général. Dans le cas de la fonction\n",
    "créneau, on pouvait mettre seulement la valeur de la fonction car elle\n",
    "était constante et dans ce cas `np.piecewise()` interprète par défaut\n",
    "`constante` en `lambda t: constante`. On peut par ailleurs se passer\n",
    "de l'appel à `np.piecewise()` et utiliser une structure conditionnelle\n",
    "en `if (t//demiperiode)%2 != 0` mais la fonction dxoverdtTriangle\n",
    "renverra alors un scalaire. C'est suffisant pour la méthode d'Euler\n",
    "mais cette syntaxe permet de définir une fonction qui renvoie un\n",
    "tableau `numpy`, ce qui allège le code pour tracer des courbes par\n",
    "exemple.\n",
    "\n",
    "Le reste du code a la même structure:\n",
    "\n"
   ]
  },
  {
   "cell_type": "code",
   "execution_count": 1,
   "metadata": {},
   "outputs": [],
   "source": [
    "x = np.zeros(NombrePoints)\n",
    "\n",
    "periode = 1/5 # en ms\n",
    "tau = 1000*L/R # en ms\n",
    "params = [periode,tau,-E/L,E/L] # E/L en A/s soit en mA/ms\n",
    "\n",
    "for i in range(NombrePoints-1):\n",
    "    x[i+1] = x[i]+ Deltat*dxoverdtTriangle(t[i],x[i],params)\n",
    "\n",
    "figTriangle,axTriangle = plt.subplots()\n",
    "\n",
    "axTriangle.set_xlabel('t (ms)')\n",
    "axTriangle.set_ylabel('iL (mA)')\n",
    "axTriangle.set_title('Réponse d\\'un dipôle RL à une fonction triangle')\n",
    "axTriangle.plot(t,x,'b',label='iL')\n",
    "axTriangle.legend(loc='best',shadow=True)\n",
    "\n",
    "figTriangle.show()"
   ]
  }
 ],
 "metadata": {
  "kernelspec": {
   "display_name": "Python 3",
   "language": "python",
   "name": "python3"
  },
  "language_info": {
   "codemirror_mode": {
    "name": "ipython",
    "version": 3
   },
   "file_extension": ".py",
   "mimetype": "text/x-python",
   "name": "python",
   "nbconvert_exporter": "python",
   "pygments_lexer": "ipython3",
   "version": "3.9.7"
  },
  "org": null
 },
 "nbformat": 4,
 "nbformat_minor": 1
}
