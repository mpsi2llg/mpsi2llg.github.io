{
 "cells": [
  {
   "cell_type": "markdown",
   "metadata": {},
   "source": [
    "Résolution symbolique d'un système linéaire\n",
    "===========================================\n",
    "\n"
   ]
  },
  {
   "cell_type": "markdown",
   "metadata": {},
   "source": [
    "## Présentation\n",
    "\n"
   ]
  },
  {
   "cell_type": "markdown",
   "metadata": {},
   "source": [
    "La bibliothèque `sympy` permet, entre autre, de résoudre des systèmes\n",
    "linéaires à l'aide de la fonction `linsolve`. Elle prend pour argument\n",
    "un système d'équations vérifiées par certains symboles et la liste des\n",
    "symboles qu'on souhaite exprimer en fonction des autres.\n",
    "\n",
    "Chaque équation est donnée sous la forme d'une expression qui doit\n",
    "être nulle.\n",
    "\n",
    "On cherche ici les valeurs des inconnues $x,y,z$ qui vérifient le\n",
    "système suivant:\n",
    "\n",
    "\\begin{equation*}\n",
    "  \\begin{cases}\n",
    "    x + y + z &= a_{1}\\\\\n",
    "    2 x + y - z &= a_{2}\\\\\n",
    "    x - 2 y &= a_{3}\n",
    "  \\end{cases}\n",
    "\\end{equation*}\n",
    "\n",
    "Le code suivant permet d'obtenir les expressions de $x$, $y$ et $z$ en\n",
    "fonction de $a_1$, $a_2$ et $a_3$.\n",
    "\n"
   ]
  },
  {
   "cell_type": "code",
   "execution_count": 1,
   "metadata": {},
   "outputs": [],
   "source": [
    "from sympy import linsolve, pprint, symbols\n",
    "\n",
    "x, y, z = symbols('x y z')  # Inconnues\n",
    "a1, a2, a3 = symbols('a1 a2 a3')  # Données\n",
    "systeme = [x + y +z -a1,\n",
    "           2* x + y -z -a2,\n",
    "           x - 2*y-a3]\n",
    "\n",
    "solution = linsolve(systeme,x,y,z)\n",
    "pprint(solution)"
   ]
  }
 ],
 "metadata": {
  "kernelspec": {
   "display_name": "Python 3",
   "language": "python",
   "name": "python3"
  },
  "language_info": {
   "codemirror_mode": {
    "name": "ipython",
    "version": 3
   },
   "file_extension": ".py",
   "mimetype": "text/x-python",
   "name": "python",
   "nbconvert_exporter": "python",
   "pygments_lexer": "ipython3",
   "version": "3.9.5"
  },
  "org": null
 },
 "nbformat": 4,
 "nbformat_minor": 1
}
