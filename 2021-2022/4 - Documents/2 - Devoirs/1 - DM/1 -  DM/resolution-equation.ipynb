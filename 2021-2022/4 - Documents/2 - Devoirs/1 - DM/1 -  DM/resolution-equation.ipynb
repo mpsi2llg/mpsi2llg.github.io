{
 "cells": [
  {
   "cell_type": "markdown",
   "metadata": {},
   "source": [
    "Résolution numérique d'équations\n",
    "================================\n",
    "\n",
    "**Date:** vendredi 19 novembre 2021\n",
    "\n"
   ]
  },
  {
   "cell_type": "markdown",
   "metadata": {},
   "source": [
    "## Capacité numérique:\n",
    "\n"
   ]
  },
  {
   "cell_type": "markdown",
   "metadata": {},
   "source": [
    "<p class=\"verse\">\n",
    "déterminer, à l’aide d’un langage de programmation, l’état final d’un système, siège d’une transformation, modélisée par une réaction à partir des conditions initiales et valeur de la constante d’équilibre.<br />\n",
    "</p>\n",
    "\n"
   ]
  },
  {
   "cell_type": "markdown",
   "metadata": {},
   "source": [
    "## Fonction fsolve\n",
    "\n"
   ]
  },
  {
   "cell_type": "markdown",
   "metadata": {},
   "source": [
    "La fonction `fsolve` du module `scipy` permet d'obtenir des solutions\n",
    "numériques approchées d'équations ou de systèmes d'équations.\n",
    "\n",
    "Elle prend pour cela pour argument:\n",
    "\n",
    "-   une expression `func` d'une variable `x`\n",
    "-   une estimation initiale de `x` (à choisir dans l'intervalle où on\n",
    "    pense qu'une solution existe)\n",
    "\n",
    "Dans l'exemple suivant, on recherche la solution de l'équation:\n",
    "\n",
    "$$\n",
    "x^{5} = 10^{-2} \\sqrt{2-x}\n",
    "$$\n",
    "\n",
    "avec comme estimation initiale $x = \\mbox{0,2}$.\n",
    "\n"
   ]
  },
  {
   "cell_type": "code",
   "execution_count": 1,
   "metadata": {},
   "outputs": [],
   "source": [
    "%matplotlib notebook"
   ]
  },
  {
   "cell_type": "markdown",
   "metadata": {},
   "source": [
    "La ligne précédente ne doit apparaître que dans les notebooks\n",
    "`Jupyter`, pas dans un fichier python.\n",
    "\n"
   ]
  },
  {
   "cell_type": "code",
   "execution_count": 1,
   "metadata": {},
   "outputs": [],
   "source": [
    "import numpy as np\n",
    "from scipy.optimize import fsolve\n",
    "\n",
    "def equation(x):\n",
    "    return x**5 - 1e-2*np.sqrt(2-x)\n",
    "\n",
    "root = fsolve(equation,.2)\n",
    "print(f'La solution est : {root}')"
   ]
  },
  {
   "cell_type": "markdown",
   "metadata": {},
   "source": [
    "On peut également lui faire résoudre un système d'équations en\n",
    "utilisant comme argument de `equation` un tableau (voir\n",
    "\\href{https://docs.scipy.org/doc/scipy/reference/generated/scipy.optimize.fsolve.html}{la documentation officielle}).\n",
    "\n"
   ]
  },
  {
   "cell_type": "markdown",
   "metadata": {},
   "source": [
    "## Questions du DM04\n",
    "\n"
   ]
  },
  {
   "cell_type": "markdown",
   "metadata": {},
   "source": [
    "### Exo 2, question 3a\n",
    "\n"
   ]
  },
  {
   "cell_type": "markdown",
   "metadata": {},
   "source": [
    "### Exo 2, question 3b\n",
    "\n"
   ]
  }
 ],
 "metadata": {
  "kernelspec": {
   "display_name": "Python 3",
   "language": "python",
   "name": "python3"
  },
  "language_info": {
   "codemirror_mode": {
    "name": "ipython",
    "version": 3
   },
   "file_extension": ".py",
   "mimetype": "text/x-python",
   "name": "python",
   "nbconvert_exporter": "python",
   "pygments_lexer": "ipython3",
   "version": "3.9.7"
  },
  "org": null
 },
 "nbformat": 4,
 "nbformat_minor": 1
}
