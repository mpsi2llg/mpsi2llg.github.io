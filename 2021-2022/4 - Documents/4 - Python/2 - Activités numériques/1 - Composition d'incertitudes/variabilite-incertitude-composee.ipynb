{
 "cells": [
  {
   "cell_type": "markdown",
   "metadata": {},
   "source": [
    "## Capacité numérique:\n",
    "\n"
   ]
  },
  {
   "cell_type": "markdown",
   "metadata": {},
   "source": [
    "<p class=\"verse\">\n",
    "Simuler, à l’aide d’un langage de programmation ou d’un tableur,<br />\n",
    "un processus aléatoire permettant de caractériser la variabilité<br />\n",
    "de la valeur d’une grandeur composée<br />\n",
    "</p>\n",
    "\n"
   ]
  },
  {
   "cell_type": "markdown",
   "metadata": {},
   "source": [
    "## Chute libre\n",
    "\n"
   ]
  },
  {
   "cell_type": "markdown",
   "metadata": {},
   "source": [
    "### Dispositif expérimental\n",
    "\n"
   ]
  },
  {
   "cell_type": "markdown",
   "metadata": {},
   "source": [
    "On cherche à mesurer l'accélération de la pesanteur $g$ en étudiant la\n",
    "chute libre d'un corps dans le vide. Le dispositif consiste en:\n",
    "\n",
    "-   un objet de masse $m$ en chute libre dans le vide;\n",
    "-   est lâché sans vitesse initiale d'une altitude $h_1$;\n",
    "-   sa vitesse $v$ est mesurée par un capteur spécifique quand il passe\n",
    "    en un point d'altitude $h_2 < h_1$.\n",
    "\n"
   ]
  },
  {
   "cell_type": "markdown",
   "metadata": {},
   "source": [
    "### Modèle\n",
    "\n"
   ]
  },
  {
   "cell_type": "markdown",
   "metadata": {},
   "source": [
    "Montrer qu'on a:\n",
    "\n"
   ]
  },
  {
   "cell_type": "markdown",
   "metadata": {},
   "source": [
    "$v^2 = 2 g (h_1 -h_2)$\n",
    "\n"
   ]
  },
  {
   "cell_type": "markdown",
   "metadata": {},
   "source": [
    "### Incertitudes\n",
    "\n"
   ]
  },
  {
   "cell_type": "markdown",
   "metadata": {},
   "source": [
    "On cherche à observer l'effet sur l'incertitude sur la mesure de $g$ des\n",
    "sources d'incertitude suivantes:\n",
    "\n",
    "-   incertitude sur les lectures des altitudes $h_1$ et $h_2$ sur une règle;\n",
    "\n",
    "-   incertitude sur la mesure de la vitesse par un capteur.\n",
    "\n",
    "On **simule** ici numériquement les répartitions des valeurs mesurées\n",
    "pour ces grandeurs si on reproduisait un grand nombre de fois la\n",
    "manipulation, en supposant connue la loi de répartition des erreurs.\n",
    "\n"
   ]
  },
  {
   "cell_type": "markdown",
   "metadata": {},
   "source": [
    "#### Lecture des altitudes sur une règle\n",
    "\n"
   ]
  },
  {
   "cell_type": "markdown",
   "metadata": {},
   "source": [
    "On suppose une répartition uniforme d'erreurs entre deux graduations\n",
    "de la règle distantes de $\\Delta h$.\n",
    "\n",
    "On rappelle que l'incertitude-type vaut alors:\n",
    "\n"
   ]
  },
  {
   "cell_type": "markdown",
   "metadata": {},
   "source": [
    "$\\Delta h/(2 \\sqrt{3})$.\n",
    "\n",
    "On utilisera la fonction `random.random_sample` pour tirer un nombre\n",
    "flottant aléatoire correspondant à une altitude lue entre deux\n",
    "graduations de la règle.\n",
    "\n"
   ]
  },
  {
   "cell_type": "markdown",
   "metadata": {},
   "source": [
    "#### Mesure de la vitesse\n",
    "\n"
   ]
  },
  {
   "cell_type": "markdown",
   "metadata": {},
   "source": [
    "On suppose une répartition d'erreurs autour d'une vitesse $v$ donnée\n",
    "par une loi normale d'incertitude-type $\\Delta v$.\n",
    "\n",
    "On utilisera la fonction `random.normal` pour tirer un nombre flottant\n",
    "aléatoire correspondant cette loi normale.\n",
    "\n"
   ]
  },
  {
   "cell_type": "markdown",
   "metadata": {},
   "source": [
    "## Code\n",
    "\n"
   ]
  },
  {
   "cell_type": "markdown",
   "metadata": {},
   "source": [
    "### Bibliothèques nécessaires\n",
    "\n"
   ]
  },
  {
   "cell_type": "code",
   "execution_count": 1,
   "metadata": {},
   "outputs": [
    {
     "name": "stdout",
     "output_type": "stream",
     "text": [
      "# Out[12]:"
     ]
    }
   ],
   "source": [
    "%matplotlib inline\n",
    "import numpy as np\n",
    "from matplotlib import pyplot"
   ]
  },
  {
   "cell_type": "markdown",
   "metadata": {},
   "source": [
    "Pour utiliser un affichage scientifique\n",
    "\n"
   ]
  },
  {
   "cell_type": "code",
   "execution_count": 1,
   "metadata": {},
   "outputs": [],
   "source": [
    "sci_format = \":.3e\"\n",
    "np.set_printoptions(formatter={'float':sci_format})"
   ]
  },
  {
   "cell_type": "markdown",
   "metadata": {},
   "source": [
    "### Fonctions permettant de réaliser les tirages aléatoires\n",
    "\n"
   ]
  },
  {
   "cell_type": "code",
   "execution_count": 1,
   "metadata": {},
   "outputs": [
    {
     "name": "stdout",
     "output_type": "stream",
     "text": [
      "# Out[13]:"
     ]
    }
   ],
   "source": [
    "# tirage aléatoire pour une loi normale de moyenne X[0] et d'incertitude-type X[1]\n",
    "def tirage_normal(X):\n",
    "  return X[0] + X[1]*np.random.normal()\n",
    "\n",
    "# tirage aléatoire pour une répartition uniforme entre X[0] et X[1]\n",
    "def tirage_uniforme(X):\n",
    "  return X[0] + (X[1]-X[0])*np.random.random_sample()"
   ]
  },
  {
   "cell_type": "markdown",
   "metadata": {},
   "source": [
    "### Paramètres\n",
    "\n"
   ]
  },
  {
   "cell_type": "markdown",
   "metadata": {},
   "source": [
    "On suppose pour cette simulation connue les valeurs vraies de $g$,\n",
    "$h_1$ et $h_2$. On en déduit celle de $v$.\n",
    "\n"
   ]
  },
  {
   "cell_type": "code",
   "execution_count": 1,
   "metadata": {},
   "outputs": [],
   "source": [
    "# Accélération de la pesanteur\n",
    "g = 9.80665 #en m/s, valeur normale de la CGPM\n",
    "\n",
    "# Hauteur de chute\n",
    "h1 = 3 # en m\n",
    "h2 = 2 # en m\n",
    "h0 = h1-h2\n",
    "Deltah = 5e-3 # en m, demi-largeur de la lecture de h\n",
    "\n",
    "# Vitesse atteinte\n",
    "v0 = np.sqrt(2* g * h0) # en m/s\n",
    "Deltav = 1e-2 # en m/s, incertitude-type sur la mesure de v"
   ]
  },
  {
   "cell_type": "markdown",
   "metadata": {},
   "source": [
    "### Simulation des mesures\n",
    "\n"
   ]
  },
  {
   "cell_type": "markdown",
   "metadata": {},
   "source": [
    "On crée des listes `numpy array` de mesures de $h_1$, $h_2$ et $v$\n",
    "pour faciliter leur manipulation.\n",
    "\n"
   ]
  },
  {
   "cell_type": "code",
   "execution_count": 1,
   "metadata": {},
   "outputs": [],
   "source": [
    "# Mesures\n",
    "N = 10000 # nombre de points de mesure\n",
    "g_calculee = np.array([])\n",
    "\n",
    "h1min = h1-Deltah\n",
    "h1max = h1+Deltah\n",
    "h2min = h2-Deltah\n",
    "h2max = h2+Deltah\n",
    "\n",
    "MesuresV = np.array([tirage_normal([v0,Deltav]) for i in range(N)])\n",
    "MesuresH1 = np.array([tirage_uniforme([h1min,h1max]) for i in range(N)])\n",
    "MesuresH2 = np.array([tirage_uniforme([h2min,h2max]) for i in range(N)])"
   ]
  },
  {
   "cell_type": "markdown",
   "metadata": {},
   "source": [
    "### Étude de $g$\n",
    "\n"
   ]
  },
  {
   "cell_type": "markdown",
   "metadata": {},
   "source": [
    "on calcule les valeurs de $g$, leur valeur moyenne et l'écart-type de\n",
    "leur distribution.\n",
    "\n"
   ]
  },
  {
   "cell_type": "code",
   "execution_count": 1,
   "metadata": {},
   "outputs": [],
   "source": [
    "# Valeurs de $h = h1-h2\n",
    "MesuresH = MesuresH1 - MesuresH2\n",
    "# On pourrait faire la même chose sans numpy array avec:\n",
    "# MesuresH = [MesuresH1[i] - MesuresH2[i] for  i in range(N)]\n",
    "# ou\n",
    "# for i in range(N)\n",
    "#    MesuresH[i] = MesuresH1[i] - MesuresH2[i]\n",
    "\n",
    "# Valeurs calculées de g = v^2/(2h)\n",
    "g_calculees = MesuresV**2/(2*MesuresH)\n",
    "g_moyenne = np.average(g_calculees)\n",
    "Stdevg = np.std(g_calculees)\n",
    "print('moyenne des valeurs calculées de g:',\"{:.3e}\".format(g_moyenne))\n",
    "print('incertitude-type sur les valeurs calculées de g:',\"{:.3e}\".format(Stdevg))"
   ]
  },
  {
   "cell_type": "markdown",
   "metadata": {},
   "source": [
    "On affiche un histogramme de ces valeurs.\n",
    "\n"
   ]
  },
  {
   "cell_type": "code",
   "execution_count": 1,
   "metadata": {},
   "outputs": [],
   "source": [
    "pyplot.hist(g_calculees, bins = 50, color = 'blue', edgecolor = 'black')\n",
    "pyplot.xlabel('g (m/s^2)')\n",
    "pyplot.ylabel('effectif')\n",
    "pyplot.title('Pour '+str(N)+ ' iterations')\n",
    "# pyplot.show()"
   ]
  },
  {
   "cell_type": "markdown",
   "metadata": {},
   "source": [
    "## Questions\n",
    "\n"
   ]
  },
  {
   "cell_type": "markdown",
   "metadata": {},
   "source": [
    "### Incertitudes composées\n",
    "\n"
   ]
  },
  {
   "cell_type": "markdown",
   "metadata": {},
   "source": [
    "1.  Afficher l'écart-type relative des mesures de $g$.\n",
    "2.  Afficher les incertitudes-types et les incertitudes-types relatives\n",
    "    sur $v$, $h1$, $h2$.\n",
    "3.  Afficher l'écart-type des valeurs mesurées de $h$ et comparer à\n",
    "    l'incertitude-type composée à partir des incertitudes-types de\n",
    "    $h_1$ et $h_2$. Calculer l'incertitude-type relative sur $h$.\n",
    "\n",
    "4.  Déterminer et afficher l'incertitude-type relative composée sur $g$\n",
    "    en fonction des incertitudes-types relatives précédentes et\n",
    "    comparer à l'écart-type relatif sur $g$.\n",
    "5.  Augmenter d'un facteur 10 la précision sur la vitesse? Quel est\n",
    "    l'effet sur la précision de la détermination de $g$. Commenter.\n",
    "\n"
   ]
  },
  {
   "cell_type": "markdown",
   "metadata": {},
   "source": [
    "### Effet du nombre de mesures\n",
    "\n"
   ]
  },
  {
   "cell_type": "markdown",
   "metadata": {},
   "source": [
    "1.  Changer le nombre d'itérations $N$ d'un facteur 100 dans un sens ou\n",
    "    dans l'autre. Cela change-t-il les résultats précédents?\n",
    "\n",
    "2.  Pour un jeu de $N = 1e4$ mesures, effectuer des moyennes de $m =\n",
    "       100$ et étudier l'incertitude-type des $N/m = 100$ mesures\n",
    "    obtenues. Vérifier qu'il est réduit d'un rapport $\\sqrt{m}$.\n",
    "\n"
   ]
  }
 ],
 "metadata": {
  "kernelspec": {
   "display_name": "Python 3",
   "language": "python",
   "name": "python3"
  },
  "language_info": {
   "codemirror_mode": {
    "name": "ipython",
    "version": 3
   },
   "file_extension": ".py",
   "mimetype": "text/x-python",
   "name": "python",
   "nbconvert_exporter": "python",
   "pygments_lexer": "ipython3",
   "version": "3.9.5"
  },
  "org": null
 },
 "nbformat": 4,
 "nbformat_minor": 1
}
